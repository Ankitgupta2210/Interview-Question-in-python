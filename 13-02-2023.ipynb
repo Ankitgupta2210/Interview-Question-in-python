{
 "cells": [
  {
   "cell_type": "markdown",
   "id": "16182bc6",
   "metadata": {},
   "source": [
    "# Write a program to print no from 1 to 100 without using to break."
   ]
  },
  {
   "cell_type": "code",
   "execution_count": null,
   "id": "fd49f65f",
   "metadata": {},
   "outputs": [],
   "source": [
    "for i in range(int(input(\"Enter the nomber :\"))):\n",
    "    print(i)"
   ]
  },
  {
   "cell_type": "code",
   "execution_count": null,
   "id": "eb55658f",
   "metadata": {},
   "outputs": [],
   "source": [
    "for  i in range(1,101):\n",
    "    print(i)"
   ]
  },
  {
   "cell_type": "markdown",
   "id": "67dbac11",
   "metadata": {},
   "source": [
    "# Write a program to check even nomber from 100 to 1"
   ]
  },
  {
   "cell_type": "code",
   "execution_count": null,
   "id": "ee6b421d",
   "metadata": {},
   "outputs": [],
   "source": [
    "a=int(input(\"Enter the nomber :\"))\n",
    "for i in range(a):\n",
    "    if i %2==0:\n",
    "        print(\"even nomber :\",i)\n",
    "    else:\n",
    "        (\"not the even nomber :\",i)\n",
    "        "
   ]
  },
  {
   "cell_type": "code",
   "execution_count": null,
   "id": "ea255f0a",
   "metadata": {},
   "outputs": [],
   "source": [
    "for i in range(1,101):\n",
    "    if i%2==0:\n",
    "        print(i)"
   ]
  },
  {
   "cell_type": "markdown",
   "id": "5055754d",
   "metadata": {},
   "source": [
    "# Write a program to check odd nomber from 100 to 1¶"
   ]
  },
  {
   "cell_type": "code",
   "execution_count": null,
   "id": "95a005f7",
   "metadata": {},
   "outputs": [],
   "source": [
    "a=int(input(\"Enter the nomber :\"))\n",
    "for i in range(a):\n",
    "    if i %2!=0:\n",
    "        print(\"odd nomber :\",i)\n",
    "    else:\n",
    "        (\"not the odd nomber :\",i)"
   ]
  },
  {
   "cell_type": "code",
   "execution_count": null,
   "id": "73cb8766",
   "metadata": {},
   "outputs": [],
   "source": [
    "for i in range(1,101):\n",
    "    if i%2!=0:\n",
    "        print(i)"
   ]
  },
  {
   "cell_type": "markdown",
   "id": "536093a0",
   "metadata": {},
   "source": [
    "# Write a program to check factorial nomber."
   ]
  },
  {
   "cell_type": "code",
   "execution_count": null,
   "id": "87c3f702",
   "metadata": {},
   "outputs": [],
   "source": [
    "# to check the nomber is user input in for loop .\n",
    "a=int(input(\"Enter the nomber :\"))\n",
    "fact=1\n",
    "for i in range(1,a+1):\n",
    "    fact=fact*i\n",
    "    \n",
    "print(\"factorail nombar is :\",fact)    "
   ]
  },
  {
   "cell_type": "code",
   "execution_count": null,
   "id": "7d16e609",
   "metadata": {},
   "outputs": [],
   "source": [
    "# to check the nomber is user input in while loop .\n",
    "a= int(input(\"Enter the nomber :\"))\n",
    "fact=1\n",
    "while (a>0):\n",
    "    fact=fact*a\n",
    "    a=a-1\n",
    "    \n",
    "print(fact)    "
   ]
  },
  {
   "cell_type": "markdown",
   "id": "acf46e6b",
   "metadata": {},
   "source": [
    "### Write a program to check prime nomber in user input ."
   ]
  },
  {
   "cell_type": "code",
   "execution_count": null,
   "id": "5924e819",
   "metadata": {},
   "outputs": [],
   "source": [
    "# to check the the user input is aprime nomber for while loop \n",
    "n=int(input(\"enter the nomber :\"))\n",
    "for i in range(2,n):\n",
    "    if n%i==0:\n",
    "        print(\"the nomber is not prime :\",n)\n",
    "        break\n",
    "    else:\n",
    "        print(\"a prime nomber :\",n)\n",
    "        break"
   ]
  },
  {
   "cell_type": "code",
   "execution_count": null,
   "id": "314451ee",
   "metadata": {},
   "outputs": [],
   "source": [
    "# to check the the user input is aprime nomber in for loop \n",
    "n=int(input(\"Enter the nomber :\"))\n",
    "k=0\n",
    "i=2\n",
    "while i<=n/2: \n",
    "    if n%i==0:\n",
    "        f=1\n",
    "    break\n",
    "i=i+1 \n",
    "if f==0:\n",
    "    print(\"The nomber is prime nomber .\")\n",
    "else:\n",
    "    print(\"The nomber is not a prime nomber\")"
   ]
  },
  {
   "cell_type": "markdown",
   "id": "48a7ce5b",
   "metadata": {},
   "source": [
    "# Write a program in user input to check palindroma nomber.\n",
    "***A palindrome number is a number that remains the same when digits are reversed.\n",
    "For example, the number 12321 is a palindrome number,\n",
    "but 1451 is not a palindrome number.\n",
    "Given a positive integer, the task is to check whether the number is palindrome or not.***"
   ]
  },
  {
   "cell_type": "code",
   "execution_count": null,
   "id": "37008882",
   "metadata": {},
   "outputs": [],
   "source": [
    "# check in palindroma number in while loop .\n",
    "n=int(input(\"enter the nomber :\"))\n",
    "a=n\n",
    "num=0\n",
    "while(n):\n",
    "    r=n%10\n",
    "    num=num*10+r\n",
    "    n=n//10\n",
    "if a==num:\n",
    "    print(\"The nomber is palldroma\")\n",
    "else:\n",
    "    print(\"Nober is not a palldroma\")"
   ]
  },
  {
   "cell_type": "code",
   "execution_count": null,
   "id": "66bfe3c6",
   "metadata": {},
   "outputs": [],
   "source": [
    "#check in palindroma number in for loop.\n",
    "n=int(input(\"Enter the nomber :\"))\n",
    "s=0\n",
    "a=n\n",
    "for i in range(n):\n",
    "    r=n%10\n",
    "    s=s*10+r\n",
    "    n=n//10\n",
    "if s==a:\n",
    "    print(\"The nomber is palindroma :\",s)\n",
    "else:\n",
    "    print(\"Not a palindroma nomber\")"
   ]
  },
  {
   "cell_type": "markdown",
   "id": "4ca66167",
   "metadata": {},
   "source": [
    "# write the program to user input in check perfect sequre .\n"
   ]
  },
  {
   "cell_type": "code",
   "execution_count": null,
   "id": "3556d749",
   "metadata": {},
   "outputs": [],
   "source": [
    "n=int(input(\"Enter the nomber :\"))\n",
    "sum=0\n",
    "i=1\n",
    "while (i<n):\n",
    "    if n%i==0:\n",
    "        sum=sum +i\n",
    "    i=i+1\n",
    "if sum==n:\n",
    "    print(\"The nomber is perfect :\",n)\n",
    "else:\n",
    "    print(\"The nomber is not a perfect :\",n)"
   ]
  },
  {
   "cell_type": "code",
   "execution_count": null,
   "id": "d21c89b3",
   "metadata": {},
   "outputs": [],
   "source": [
    "n=int(input(\"Enter the nomber :\"))\n",
    "sum=0\n",
    "for i in range(1,n):\n",
    "    if n%i==0:\n",
    "        sum=sum+i\n",
    "if sum==n:\n",
    "    print(\"the nomber is perfect :\",n)\n",
    "else:\n",
    "    printt(\"the nomber is not perfect :\",n)"
   ]
  },
  {
   "cell_type": "code",
   "execution_count": null,
   "id": "87270cdf",
   "metadata": {},
   "outputs": [],
   "source": []
  },
  {
   "cell_type": "code",
   "execution_count": null,
   "id": "871abb08",
   "metadata": {},
   "outputs": [],
   "source": []
  }
 ],
 "metadata": {
  "kernelspec": {
   "display_name": "Python 3 (ipykernel)",
   "language": "python",
   "name": "python3"
  },
  "language_info": {
   "codemirror_mode": {
    "name": "ipython",
    "version": 3
   },
   "file_extension": ".py",
   "mimetype": "text/x-python",
   "name": "python",
   "nbconvert_exporter": "python",
   "pygments_lexer": "ipython3",
   "version": "3.9.7"
  }
 },
 "nbformat": 4,
 "nbformat_minor": 5
}
