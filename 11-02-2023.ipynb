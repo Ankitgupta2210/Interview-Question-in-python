{
 "cells": [
  {
   "cell_type": "markdown",
   "id": "e1c79ec4",
   "metadata": {},
   "source": [
    "## eulidence distence"
   ]
  },
  {
   "cell_type": "code",
   "execution_count": null,
   "id": "7bf822bc",
   "metadata": {},
   "outputs": [],
   "source": [
    "x1=float(input(\"enter the nomber :\"))\n",
    "x2=float(input(\"enter the nomber :\"))\n",
    "y1=float(input(\"enter the nomber :\"))\n",
    "y2=float(input(\"enter the nomber :\"))\n",
    "eul=((x2-x1)**2+(y2-y1)**2)**0.5\n",
    "print(\"eulidence distance:\",eul)"
   ]
  },
  {
   "cell_type": "markdown",
   "id": "05c3d02a",
   "metadata": {},
   "source": [
    "## simple interset"
   ]
  },
  {
   "cell_type": "code",
   "execution_count": null,
   "id": "91f708f7",
   "metadata": {},
   "outputs": [],
   "source": [
    "principal=float(input(\"enter the nomber :\"))\n",
    "rate=float(input(\"enter the nomber :\"))\n",
    "time=float(input(\"enter the nomber :\"))\n",
    "\n",
    "si=((principal*rate*time)/100)\n",
    "print(\"simple interset \",si)"
   ]
  },
  {
   "cell_type": "markdown",
   "id": "3fe358b5",
   "metadata": {},
   "source": [
    "# the sum of squares of first n natural numbers "
   ]
  },
  {
   "cell_type": "code",
   "execution_count": null,
   "id": "224d157e",
   "metadata": {},
   "outputs": [],
   "source": [
    "n=int(input(\"enter the nomber :\"))\n",
    "f=(n*(n+1)*(2*n+1))/6\n",
    "print(f)"
   ]
  },
  {
   "cell_type": "markdown",
   "id": "7b76be89",
   "metadata": {},
   "source": [
    "### Arithmetic Series"
   ]
  },
  {
   "cell_type": "code",
   "execution_count": null,
   "id": "f786cf0e",
   "metadata": {},
   "outputs": [],
   "source": [
    "#hint a+(n-1)d\n",
    "first=int(input(\"enter the nomber :\"))\n",
    "second=int(input(\"enter the nomber :\"))\n",
    "d=second-first\n",
    "formula=first+(n-1)*d\n",
    "print(formula)"
   ]
  },
  {
   "cell_type": "markdown",
   "id": "bffc6ee0",
   "metadata": {},
   "source": [
    "### fraction program\n"
   ]
  },
  {
   "cell_type": "code",
   "execution_count": null,
   "id": "fec443fd",
   "metadata": {},
   "outputs": [],
   "source": [
    "first=int(input(\"enter the nomber :\"))\n",
    "second=int(input(\"enter the nomber :\"))\n",
    "fraction=first/second\n",
    "print(fraction)"
   ]
  },
  {
   "cell_type": "code",
   "execution_count": null,
   "id": "becbb5ae",
   "metadata": {},
   "outputs": [],
   "source": [
    "hight=int(input(\"enter the nomber :\"))\n",
    "weight=int(input(\"enter the nomber :\"))\n",
    "lenght=int(input(\"enter the nomber :\"))\n",
    "glass_hight=float(input(\"enter the nomber :\"))\n",
    "glass_radius=float(input(\"enter the nomber :\"))\n",
    "\n",
    "\n",
    "milk_tank=hight*weight*lenght\n",
    "glass_tank=3.14*glass_radius*glass_radius*glass_hight\n",
    "\n",
    "volume =milk_tank/glass_tank\n",
    "print(volume)"
   ]
  },
  {
   "cell_type": "markdown",
   "id": "5c45dae4",
   "metadata": {},
   "source": [
    "### Write a program that will give you in hand monthly salary after deduction on CTC - HRA(10%), DA(5%), PF(3%) and taxes deduction as below:\n",
    "Salary(Lakhs) : Tax(%)\n",
    "\n",
    "Below 5 : 0%\n",
    "5-10 : 10%\n",
    "10-20 : 20%\n",
    "aboove 20 : 30%"
   ]
  },
  {
   "cell_type": "code",
   "execution_count": null,
   "id": "d690a48c",
   "metadata": {},
   "outputs": [],
   "source": [
    "ctc=int(input(\"enter the pakachge :\"))\n",
    "# hra+da+pf=100\n",
    "#10+5+3=82\n",
    "if ctc<500000:\n",
    "    salary=ctc*.82\n",
    "elif ctc<100000:\n",
    "    salary=ctc*.72\n",
    "elif ctc<2000000:\n",
    "    salary=ctc*.62\n",
    "else:\n",
    "    salary=ctc*.42\n",
    "    \n",
    "print(\"You in hand monthly salary \",round(salary/ 12,2))    "
   ]
  },
  {
   "cell_type": "code",
   "execution_count": null,
   "id": "c546ff74",
   "metadata": {},
   "outputs": [],
   "source": [
    "A=int(input(\"enter the nomber :\"))\n",
    "B=int(input(\"enter the nomber :\"))\n",
    "C=int(input(\"enter the nomber :\"))\n",
    "if (A+B+C)==180 and A>0 and B>0 and C>0:\n",
    "    print(\"form a triangle :\")\n",
    "else:\n",
    "    print(\"Not a triangle\")"
   ]
  },
  {
   "cell_type": "code",
   "execution_count": null,
   "id": "19c97adb",
   "metadata": {},
   "outputs": [],
   "source": [
    "cost_price=float(input(\"enter the nomber :\"))\n",
    "selling_price=float(input(\"enter the nomber :\"))\n",
    "if cost_price>selling_price:\n",
    "    print(\"profit\")\n",
    "elif cost_price<selling_price:\n",
    "    print(\"loss\")\n",
    "else:\n",
    "    print(\"no loss and no profit\")"
   ]
  },
  {
   "cell_type": "code",
   "execution_count": null,
   "id": "2a004cf6",
   "metadata": {},
   "outputs": [],
   "source": [
    "a=input(\"\"\"\"\n",
    "1.cm to ft\n",
    "2.km to miles\n",
    "3.USD to INR\n",
    "4.exit\"\"\")\n",
    "\n",
    "\n",
    "if a=='1':\n",
    "    cm=float(input(\"Enter the values :\"))\n",
    "    print(\"Centimeter to feet\",cm/12)\n",
    "elif a=='2':\n",
    "    km=float(input(\"Enter the kilometre\"))\n",
    "    print(\"kilometer to miles \",km*0.62)\n",
    "elif a=='3':\n",
    "    usd=float(input(\"Enter the dollar\"))\n",
    "    print(\"Dollar to rupees\",usd*80)\n",
    "else :\n",
    "        print(\"Exit\")"
   ]
  },
  {
   "cell_type": "markdown",
   "id": "b4679d2f",
   "metadata": {},
   "source": [
    "## Display Fibonacci series up to 10 terms."
   ]
  },
  {
   "cell_type": "code",
   "execution_count": null,
   "id": "96899aa4",
   "metadata": {},
   "outputs": [],
   "source": [
    "n=int(input(\"enter the nomber :\"))\n",
    "a=0\n",
    "b=1\n",
    "c=0\n",
    "while (c<=n):\n",
    "    print(c)\n",
    "    a=b\n",
    "    b=c\n",
    "    c=a+b"
   ]
  },
  {
   "cell_type": "code",
   "execution_count": null,
   "id": "adeba292",
   "metadata": {},
   "outputs": [],
   "source": [
    "a,b=0,1\n",
    "for i in range(10):\n",
    "    print(a)\n",
    "    next=a+b\n",
    "    a=b\n",
    "    b=next"
   ]
  },
  {
   "cell_type": "code",
   "execution_count": null,
   "id": "f7f46344",
   "metadata": {},
   "outputs": [],
   "source": [
    "a,b=0,1\n",
    "for i in range(int(input(\"enter the nomber :\"))):\n",
    "    print(a)\n",
    "    c=a+b\n",
    "    a=b\n",
    "    b=c\n"
   ]
  },
  {
   "cell_type": "code",
   "execution_count": null,
   "id": "08785329",
   "metadata": {},
   "outputs": [],
   "source": [
    "n=int(input(\"Enter the nomber :\"))\n",
    "f=1\n",
    "while (n>0):\n",
    "    f=f*n\n",
    "    n=n-1\n",
    "\n",
    "    \n",
    "print(f)    "
   ]
  },
  {
   "cell_type": "code",
   "execution_count": null,
   "id": "0eeaf31e",
   "metadata": {},
   "outputs": [],
   "source": [
    "n=int(input(\"enter the nomber :\"))\n",
    "f=1\n",
    "for i in range(1,n+1):\n",
    "    f=f*i\n",
    "    \n",
    "    \n",
    "print(f)    "
   ]
  },
  {
   "cell_type": "code",
   "execution_count": null,
   "id": "e5e72309",
   "metadata": {},
   "outputs": [],
   "source": [
    "n=int(input(\"Enter the nomber \"))\n",
    "s=0\n",
    "while (n>0):\n",
    "    r=n%10\n",
    "    s=s*10+r\n",
    "    n=n//10\n",
    "print(s) \n"
   ]
  },
  {
   "cell_type": "code",
   "execution_count": null,
   "id": "b4ec7d8f",
   "metadata": {},
   "outputs": [],
   "source": [
    "x = input(\"enter a number: \")\n",
    "\n",
    "i = 0\n",
    "\n",
    "for char in reversed(x):\n",
    "    i = i*10 + int(char)\n",
    "\n",
    "print(i)"
   ]
  },
  {
   "cell_type": "code",
   "execution_count": null,
   "id": "99ed35e2",
   "metadata": {},
   "outputs": [],
   "source": [
    "n= int(input(\"enter a number: \"))\n",
    "s=0\n",
    "while n>0:\n",
    "    r=n%10\n",
    "    s=r+s\n",
    "    n=n//10\n",
    "    print(s,end='')\n",
    "    \n",
    "print(\" sum  :\",s)    "
   ]
  },
  {
   "cell_type": "code",
   "execution_count": null,
   "id": "a30cbd53",
   "metadata": {},
   "outputs": [],
   "source": [
    "n=int(input(\"enter the nomber\"))\n",
    "s=0\n",
    "while n>0:\n",
    "    r=n%10\n",
    "    s=r+s*10\n",
    "    n=n//10\n",
    "    print(s,end=' ')\n",
    "   \n",
    "print(\"sum =\",s)\n"
   ]
  },
  {
   "cell_type": "code",
   "execution_count": null,
   "id": "c7e01c19",
   "metadata": {},
   "outputs": [],
   "source": []
  }
 ],
 "metadata": {
  "kernelspec": {
   "display_name": "Python 3 (ipykernel)",
   "language": "python",
   "name": "python3"
  },
  "language_info": {
   "codemirror_mode": {
    "name": "ipython",
    "version": 3
   },
   "file_extension": ".py",
   "mimetype": "text/x-python",
   "name": "python",
   "nbconvert_exporter": "python",
   "pygments_lexer": "ipython3",
   "version": "3.9.7"
  }
 },
 "nbformat": 4,
 "nbformat_minor": 5
}
